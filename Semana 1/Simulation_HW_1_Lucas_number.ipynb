{
 "cells": [
  {
   "cell_type": "markdown",
   "metadata": {},
   "source": [
    "# Lucas Numbers\n",
    "\n",
    "2.1"
   ]
  },
  {
   "cell_type": "code",
   "execution_count": 8,
   "metadata": {},
   "outputs": [
    {
     "name": "stdout",
     "output_type": "stream",
     "text": [
      "the firts  10  Lucas numbers\n",
      "[1, 3, 4, 7, 11, 18, 29, 47, 76, 123]\n"
     ]
    }
   ],
   "source": [
    "a=1\n",
    "b=3\n",
    "n=10\n",
    "i=0\n",
    "V=[a,b]\n",
    "print (\"the firts \",n ,\" Lucas numbers\")\n",
    "for i in range(n-2):\n",
    "    l=a+b\n",
    "    a=b\n",
    "    b=l\n",
    "    V.append(l)\n",
    "    \n",
    "print (V)"
   ]
  },
  {
   "cell_type": "markdown",
   "metadata": {},
   "source": [
    "2.2)"
   ]
  },
  {
   "cell_type": "code",
   "execution_count": 6,
   "metadata": {},
   "outputs": [
    {
     "name": "stdout",
     "output_type": "stream",
     "text": [
      "inicio  2020-08-22 06:22:04.077634\n",
      "final  2020-08-22 06:22:09.078870\n"
     ]
    }
   ],
   "source": [
    "#To calculate Lucas' numbers for an hour I thought about doing it with a while, but a serious problem arose.\n",
    "#that my pc doesn't support so much information, then it dies, the code would be like this: \n",
    "#a=1\n",
    "#b=3\n",
    "#n=10\n",
    "#i=0\n",
    "#V=[a,b]\n",
    "#print (\"the firts \",n ,\" Lucas numbers\")\n",
    "#while True:\n",
    "#    l=a+b\n",
    "#    a=b\n",
    "#    b=l\n",
    "#    V.append(l)\n",
    "    \n",
    "#print (V)\n",
    "#then I would have to stop it in an exact hour, but my computer doesn't support that much information.\n",
    "#libraries\n",
    "import datetime as tiempo\n",
    "\n",
    "a=1\n",
    "b=3\n",
    "\n",
    "\n",
    "comienza=tiempo.datetime.utcnow()\n",
    "#seconds to calculate in a simple way, but can be changed by hours \n",
    "acaba=comienza + tiempo.timedelta(seconds=5)\n",
    "\n",
    "archivo=open(\"Datos.txt\", 'w')\n",
    "archivo.write('1\\n')\n",
    "archivo.write('3\\n')\n",
    "while(tiempo.datetime.utcnow()< acaba):\n",
    "    l=a+b\n",
    "    a=b\n",
    "    b=l\n",
    "    archivo.write(str(b)+'\\n')\n",
    "    \n",
    "archivo.close()\n",
    "print('inicio ', comienza)\n",
    "print('final ', tiempo.datetime.utcnow())\n"
   ]
  },
  {
   "cell_type": "code",
   "execution_count": 4,
   "metadata": {},
   "outputs": [
    {
     "data": {
      "image/png": "[encoded data removed]",
      "text/plain": [
       "<Figure size 432x288 with 1 Axes>"
      ]
     },
     "metadata": {
      "needs_background": "light"
     },
     "output_type": "display_data"
    }
   ],
   "source": [
    "import matplotlib.pyplot as plt\n",
    "\n",
    "abrir=open('Datos.txt')\n",
    "l=1\n",
    "\n",
    "for grafica in abrir:\n",
    "    plt.plot(l, int(grafica), color= 'y', marker ='d')\n",
    "    l+=1\n",
    "    if(l==10):\n",
    "        break\n",
    "        \n",
    "plt.grid()        \n",
    "plt.show()\n",
    "abrir.close()"
   ]
  },
  {
   "cell_type": "code",
   "execution_count": null,
   "metadata": {},
   "outputs": [],
   "source": []
  }
 ],
 "metadata": {
  "kernelspec": {
   "display_name": "Python 3",
   "language": "python",
   "name": "python3"
  },
  "language_info": {
   "codemirror_mode": {
    "name": "ipython",
    "version": 3
   },
   "file_extension": ".py",
   "mimetype": "text/x-python",
   "name": "python",
   "nbconvert_exporter": "python",
   "pygments_lexer": "ipython3",
   "version": "3.7.6"
  }
 },
 "nbformat": 4,
 "nbformat_minor": 4
}

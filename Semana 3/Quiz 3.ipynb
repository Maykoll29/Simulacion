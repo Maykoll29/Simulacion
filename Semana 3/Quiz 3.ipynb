{
 "cells": [
  {
   "cell_type": "code",
   "execution_count": 5,
   "metadata": {},
   "outputs": [],
   "source": [
    "import math\n",
    "import matplotlib.pyplot as plt\n",
    "from numpy import sin, cos, pi, arange"
   ]
  },
  {
   "cell_type": "code",
   "execution_count": 19,
   "metadata": {},
   "outputs": [
    {
     "data": {
      "image/png": "[encoded data removed]",
      "text/plain": [
       "<Figure size 432x288 with 1 Axes>"
      ]
     },
     "metadata": {
      "needs_background": "light"
     },
     "output_type": "display_data"
    }
   ],
   "source": [
    "def f(x):\n",
    "    return sin(x)+cos(x)\n",
    "x=arange(0,pi,0.001)\n",
    "y=sin(x)+cos(x)\n",
    "\n",
    "\n",
    "plt.plot(f(x))\n",
    "plt.grid()\n",
    "plt.show()"
   ]
  },
  {
   "cell_type": "code",
   "execution_count": 15,
   "metadata": {},
   "outputs": [
    {
     "ename": "SyntaxError",
     "evalue": "can't assign to function call (<ipython-input-15-07f9a6296517>, line 31)",
     "output_type": "error",
     "traceback": [
      "\u001b[1;36m  File \u001b[1;32m\"<ipython-input-15-07f9a6296517>\"\u001b[1;36m, line \u001b[1;32m31\u001b[0m\n\u001b[1;33m    sin(1) = 0\u001b[0m\n\u001b[1;37m              ^\u001b[0m\n\u001b[1;31mSyntaxError\u001b[0m\u001b[1;31m:\u001b[0m can't assign to function call\n"
     ]
    }
   ],
   "source": [
    "from sympy import series, Symbol\n",
    "from sympy.functions import sin, cos, exp\n",
    "from sympy.plotting import plot\n",
    "import matplotlib.pyplot as plt\n",
    "%matplotlib inline\n",
    "\n",
    "plt.rcParams['figure.figsize'] = 13,10\n",
    "plt.rcParams['lines.linewidth'] = 2\n",
    "\n",
    "x = Symbol('x')\n",
    "def taylor(function, x0, n):\n",
    "    \"\"\"\n",
    "    Parameter \"function\" is our function which we want to approximate\n",
    "    \"x0\" is the point where to approximate\n",
    "    \"n\" is the order of approximation\n",
    "    \"\"\"\n",
    "    return function.series(x,x0,n).removeO()\n",
    "\n",
    "print('sin(x) =', taylor(sin(x), 0, 4))\n",
    "\n",
    "print('cos(x) =', taylor(cos(x), 0, 4))\n",
    "\n",
    "print('e(x) =', taylor(exp(x), 0, 4))\n",
    "\n",
    "print('sin(1) =', taylor(sin(x), 0, 4).subs(x,1))\n",
    "\n",
    "print('cos(1) =', taylor(cos(x), 0, 4).subs(x,1))\n",
    "\n",
    "print('e(1) =', taylor(exp(x), 0, 4).subs(x,1))\n",
    "\n",
    "sin(1) = 0\n",
    "cos(1) = 0\n",
    "e(1) = 2\n",
    "\n",
    "p = plot(sin(x),taylor(sin(x),0,1),taylor(sin(x),0,3),taylor(sin(x),0,5),\n",
    "         (x,-3.5,3.5),legend=True, show=False)\n",
    "\n",
    "p[0].line_color = 'blue'\n",
    "p[1].line_color = 'green'\n",
    "p[2].line_color = 'firebrick'\n",
    "p[3].line_color = 'black'\n",
    "p.title = 'Taylor Series Expansion for Sine'\n",
    "p.show()"
   ]
  }
 ],
 "metadata": {
  "kernelspec": {
   "display_name": "Python 3",
   "language": "python",
   "name": "python3"
  },
  "language_info": {
   "codemirror_mode": {
    "name": "ipython",
    "version": 3
   },
   "file_extension": ".py",
   "mimetype": "text/x-python",
   "name": "python",
   "nbconvert_exporter": "python",
   "pygments_lexer": "ipython3",
   "version": "3.7.6"
  }
 },
 "nbformat": 4,
 "nbformat_minor": 4
}

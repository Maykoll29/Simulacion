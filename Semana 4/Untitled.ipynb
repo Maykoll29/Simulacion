{
 "cells": [
  {
   "cell_type": "code",
   "execution_count": 13,
   "metadata": {},
   "outputs": [
    {
     "data": {
      "text/plain": [
       "2.0"
      ]
     },
     "execution_count": 13,
     "metadata": {},
     "output_type": "execute_result"
    },
    {
     "data": {
      "image/png": "[encoded data removed]",
      "text/plain": [
       "<Figure size 432x288 with 1 Axes>"
      ]
     },
     "metadata": {
      "needs_background": "light"
     },
     "output_type": "display_data"
    }
   ],
   "source": [
    "#limites de integración\n",
    "a=-1\n",
    "b=1\n",
    "N=10000\n",
    "rand=np.zeros(N)\n",
    "def func(x):\n",
    "    return np.exp(-x**2)\n",
    "\n",
    "\n",
    "\n",
    "areas=[]\n",
    "for i in range(N):\n",
    "    xrand=np.zeros(N)\n",
    "\n",
    "    for i in range(len(xrand)):\n",
    "        xrand=random.uniform(a,b)\n",
    "        \n",
    "    integral = 0.0\n",
    "\n",
    "    for i in range(N):\n",
    "        integral += f(rand[i])\n",
    "    \n",
    "    respuesta=(b-a)/float(N)*integral\n",
    "    areas.append(respuesta)\n",
    "\n",
    "plt.hist(areas, bins=20, ec='black')\n",
    "respuesta\n"
   ]
  },
  {
   "cell_type": "code",
   "execution_count": 12,
   "metadata": {},
   "outputs": [
    {
     "data": {
      "text/plain": [
       "(array([    0.,     0.,     0.,     0.,     0.,     0.,     0.,     0.,\n",
       "            0.,     0.,     0.,     0.,     0.,     0.,     0., 10000.,\n",
       "            0.,     0.,     0.,     0.,     0.,     0.,     0.,     0.,\n",
       "            0.,     0.,     0.,     0.,     0.,     0.]),\n",
       " array([0.99785223, 1.03118556, 1.0645189 , 1.09785223, 1.13118556,\n",
       "        1.1645189 , 1.19785223, 1.23118556, 1.2645189 , 1.29785223,\n",
       "        1.33118556, 1.3645189 , 1.39785223, 1.43118556, 1.4645189 ,\n",
       "        1.49785223, 1.53118556, 1.5645189 , 1.59785223, 1.63118556,\n",
       "        1.6645189 , 1.69785223, 1.73118556, 1.7645189 , 1.79785223,\n",
       "        1.83118556, 1.8645189 , 1.89785223, 1.93118556, 1.9645189 ,\n",
       "        1.99785223]),\n",
       " <a list of 30 Patch objects>)"
      ]
     },
     "execution_count": 12,
     "metadata": {},
     "output_type": "execute_result"
    },
    {
     "data": {
      "image/png": "[encoded data removed]",
      "text/plain": [
       "<Figure size 432x288 with 1 Axes>"
      ]
     },
     "metadata": {
      "needs_background": "light"
     },
     "output_type": "display_data"
    }
   ],
   "source": [
    "%matplotlib inline\n",
    "import numpy as np\n",
    "from scipy import random \n",
    "import matplotlib.pyplot as plt\n",
    "\n",
    "a=-1\n",
    "b=1\n",
    "N=10000\n",
    "xrand=np.zeros(N)\n",
    "\n",
    "def func(x):\n",
    "    return np.exp(-x**2)\n",
    "\n",
    "\n",
    "\n",
    "areas=[]\n",
    "for i in range(N):\n",
    "    xrand=np.zeros(N)\n",
    "\n",
    "    for i in range(len(xrand)):\n",
    "        xrand=random.uniform(a,b)\n",
    "        \n",
    "    integral = 0.0\n",
    "\n",
    "    for i in range(N):\n",
    "        integral += f(rand[i])\n",
    "    \n",
    "    respuesta=(b-a)/float(N)*integral\n",
    "    areas.append(respuesta)\n",
    "\n",
    "plt.hist(areas, bins=30, ec='black')"
   ]
  },
  {
   "cell_type": "code",
   "execution_count": null,
   "metadata": {},
   "outputs": [],
   "source": []
  },
  {
   "cell_type": "code",
   "execution_count": null,
   "metadata": {},
   "outputs": [],
   "source": []
  }
 ],
 "metadata": {
  "kernelspec": {
   "display_name": "Python 3",
   "language": "python",
   "name": "python3"
  },
  "language_info": {
   "codemirror_mode": {
    "name": "ipython",
    "version": 3
   },
   "file_extension": ".py",
   "mimetype": "text/x-python",
   "name": "python",
   "nbconvert_exporter": "python",
   "pygments_lexer": "ipython3",
   "version": "3.7.6"
  }
 },
 "nbformat": 4,
 "nbformat_minor": 4
}
